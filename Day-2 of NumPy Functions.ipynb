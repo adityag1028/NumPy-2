{
 "cells": [
  {
   "cell_type": "markdown",
   "id": "4b172e83",
   "metadata": {},
   "source": [
    "# Day 2 of NumPy functions \n",
    "### 15 functions to watch for today."
   ]
  },
  {
   "cell_type": "code",
   "execution_count": 4,
   "id": "690d8e23",
   "metadata": {},
   "outputs": [
    {
     "name": "stdout",
     "output_type": "stream",
     "text": [
      "Median: 3.0\n"
     ]
    }
   ],
   "source": [
    "import numpy as np\n",
    "\n",
    "# median()\n",
    "arr = np.array([1, 3, 5, 2, 4])\n",
    "median_value = np.median(arr)\n",
    "print(\"Median:\", median_value)"
   ]
  },
  {
   "cell_type": "code",
   "execution_count": 5,
   "id": "888c79b3",
   "metadata": {},
   "outputs": [
    {
     "name": "stdout",
     "output_type": "stream",
     "text": [
      "Absolute values: [1 2 3 4]\n"
     ]
    }
   ],
   "source": [
    "# abs() or absolute()\n",
    "x = np.array([-1, -2, 3, 4])\n",
    "abs_values = np.abs(x)\n",
    "print(\"Absolute values:\", abs_values)"
   ]
  },
  {
   "cell_type": "code",
   "execution_count": 6,
   "id": "c9cb6a6d",
   "metadata": {},
   "outputs": [
    {
     "name": "stdout",
     "output_type": "stream",
     "text": [
      "Accessing the first element of each array: [[ 1  4]\n",
      " [ 7 10]]\n"
     ]
    }
   ],
   "source": [
    "# Ellipsis (...)\n",
    "arr = np.array([\n",
    "    [[1, 2, 3], [4, 5, 6]],\n",
    "    [[7, 8, 9], [10, 11, 12]]\n",
    "])\n",
    "print(\"Accessing the first element of each array:\", arr[..., 0])"
   ]
  },
  {
   "cell_type": "code",
   "execution_count": 7,
   "id": "7e569f91",
   "metadata": {},
   "outputs": [
    {
     "name": "stdout",
     "output_type": "stream",
     "text": [
      "Slice from index 1 to 3: [2 3 4]\n"
     ]
    }
   ],
   "source": [
    "# Slicing with []\n",
    "arr = np.array([1, 2, 3, 4, 5])\n",
    "print(\"Slice from index 1 to 3:\", arr[1:4])"
   ]
  },
  {
   "cell_type": "code",
   "execution_count": 8,
   "id": "997b2503",
   "metadata": {},
   "outputs": [
    {
     "name": "stdout",
     "output_type": "stream",
     "text": [
      "Element at index 2: 3\n"
     ]
    }
   ],
   "source": [
    "# Indexing with []\n",
    "arr = np.array([1, 2, 3, 4, 5])\n",
    "print(\"Element at index 2:\", arr[2])"
   ]
  },
  {
   "cell_type": "code",
   "execution_count": 9,
   "id": "67e906c6",
   "metadata": {},
   "outputs": [
    {
     "name": "stdout",
     "output_type": "stream",
     "text": [
      "Sum over axes 0 and 1: [[[16 20]]]\n"
     ]
    }
   ],
   "source": [
    "# apply_over_axes()\n",
    "arr = np.array([[[1, 2], [3, 4]], [[5, 6], [7, 8]]])\n",
    "sum_over_axes_0_1 = np.apply_over_axes(np.sum, arr, axes=(0, 1))\n",
    "print(\"Sum over axes 0 and 1:\", sum_over_axes_0_1)"
   ]
  },
  {
   "cell_type": "code",
   "execution_count": 10,
   "id": "f50e2f10",
   "metadata": {},
   "outputs": [
    {
     "name": "stdout",
     "output_type": "stream",
     "text": [
      "Max along axis 0: [5 6]\n"
     ]
    }
   ],
   "source": [
    "# apply_along_axis()\n",
    "arr = np.array([[1, 2], [3, 4], [5, 6]])\n",
    "max_along_axis_0 = np.apply_along_axis(np.max, 0, arr)\n",
    "print(\"Max along axis 0:\", max_along_axis_0)"
   ]
  },
  {
   "cell_type": "code",
   "execution_count": 11,
   "id": "5b8f44c5",
   "metadata": {},
   "outputs": [
    {
     "name": "stdout",
     "output_type": "stream",
     "text": [
      "Appended array: [1 2 3 4 5 6]\n"
     ]
    }
   ],
   "source": [
    "# append()\n",
    "arr = np.array([1, 2, 3])\n",
    "arr = np.append(arr, [4, 5, 6])\n",
    "print(\"Appended array:\", arr)"
   ]
  },
  {
   "cell_type": "code",
   "execution_count": 12,
   "id": "b1912c42",
   "metadata": {},
   "outputs": [
    {
     "name": "stdout",
     "output_type": "stream",
     "text": [
      "Any element is true: True\n"
     ]
    }
   ],
   "source": [
    "# any()\n",
    "arr = np.array([False, False, True])\n",
    "any_true = np.any(arr)\n",
    "print(\"Any element is true:\", any_true)"
   ]
  },
  {
   "cell_type": "code",
   "execution_count": 13,
   "id": "3afb8e20",
   "metadata": {},
   "outputs": [
    {
     "name": "stdout",
     "output_type": "stream",
     "text": [
      "Angle of complex number: 0.7853981633974483\n"
     ]
    }
   ],
   "source": [
    "# angle()\n",
    "z = 1.0 + 1.0j\n",
    "angle = np.angle(z)\n",
    "print(\"Angle of complex number:\", angle)"
   ]
  },
  {
   "cell_type": "code",
   "execution_count": 14,
   "id": "f6b81727",
   "metadata": {},
   "outputs": [
    {
     "name": "stdout",
     "output_type": "stream",
     "text": [
      "All elements are true: False\n"
     ]
    }
   ],
   "source": [
    "# alltrue() - It's the same as all()\n",
    "arr = np.array([True, False, True])\n",
    "all_true = np.all(arr)\n",
    "print(\"All elements are true:\", all_true)"
   ]
  },
  {
   "cell_type": "code",
   "execution_count": 15,
   "id": "2e6728ce",
   "metadata": {},
   "outputs": [
    {
     "name": "stdout",
     "output_type": "stream",
     "text": [
      "Arrays are close: False\n"
     ]
    }
   ],
   "source": [
    "# allclose()\n",
    "arr1 = np.array([1e10, 1e-7])\n",
    "arr2 = np.array([1.00001e10, 1e-8])\n",
    "close = np.allclose(arr1, arr2, rtol=1e-05, atol=1e-08)\n",
    "print(\"Arrays are close:\", close)"
   ]
  },
  {
   "cell_type": "code",
   "execution_count": 16,
   "id": "ccb19765",
   "metadata": {},
   "outputs": [
    {
     "name": "stdout",
     "output_type": "stream",
     "text": [
      "All elements are true: False\n"
     ]
    }
   ],
   "source": [
    "# all()\n",
    "arr = np.array([True, False, True])\n",
    "all_true = np.all(arr)\n",
    "print(\"All elements are true:\", all_true)"
   ]
  },
  {
   "cell_type": "code",
   "execution_count": 17,
   "id": "2b428d49",
   "metadata": {},
   "outputs": [
    {
     "name": "stdout",
     "output_type": "stream",
     "text": [
      "Accumulated sum: [ 1  3  6 10]\n"
     ]
    }
   ],
   "source": [
    "# accumulate()\n",
    "arr = np.array([1, 2, 3, 4])\n",
    "accumulated_sum = np.cumsum(arr)\n",
    "print(\"Accumulated sum:\", accumulated_sum)"
   ]
  }
 ],
 "metadata": {
  "kernelspec": {
   "display_name": "Python 3 (ipykernel)",
   "language": "python",
   "name": "python3"
  },
  "language_info": {
   "codemirror_mode": {
    "name": "ipython",
    "version": 3
   },
   "file_extension": ".py",
   "mimetype": "text/x-python",
   "name": "python",
   "nbconvert_exporter": "python",
   "pygments_lexer": "ipython3",
   "version": "3.11.7"
  }
 },
 "nbformat": 4,
 "nbformat_minor": 5
}
